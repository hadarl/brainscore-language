{
 "cells": [
  {
   "cell_type": "markdown",
   "metadata": {
    "collapsed": true,
    "jupyter": {
     "outputs_hidden": true
    }
   },
   "source": [
    "You can run an existing model on an existing benchmark by calling a single function, e.g. here a `distilgpt2` on the behavioral reading-times benchmark `Futrell2018-pearsonr`. (The below output was run on a GPU, it takes ~1-2 hours on CPU to run all the text on the model.)"
   ]
  },
  {
   "cell_type": "code",
   "execution_count": 1,
   "metadata": {
    "collapsed": false,
    "jupyter": {
     "outputs_hidden": false
    }
   },
   "outputs": [
    {
     "name": "stderr",
     "output_type": "stream",
     "text": [
      "/home/hadarla/miniconda3/envs/brain-score-env/lib/python3.10/site-packages/brainscore_core/metrics/__init__.py:16: FutureWarning: xarray subclass Score should explicitly define __slots__\n",
      "  class Score(DataAssembly):\n",
      "Error processing line 1 of /home/hadarla/.local/lib/python3.10/site-packages/vision-1.0.0-nspkg.pth:\n",
      "\n",
      "  Traceback (most recent call last):\n",
      "    File \"/home/hadarla/miniconda3/envs/brain-score-env/lib/python3.10/site.py\", line 186, in addpackage\n",
      "      exec(line)\n",
      "    File \"<string>\", line 1, in <module>\n",
      "    File \"<frozen importlib._bootstrap>\", line 568, in module_from_spec\n",
      "  AttributeError: 'NoneType' object has no attribute 'loader'\n",
      "\n",
      "Remainder of file ignored\n"
     ]
    },
    {
     "name": "stdout",
     "output_type": "stream",
     "text": [
      "Requirement already satisfied: scipy in /home/hadarla/miniconda3/envs/brain-score-env/lib/python3.10/site-packages (from -r /home/hadarla/Projects/brainscore-language-fork/brainscore-language/brainscore_language/metrics/pearson_correlation/requirements.txt (line 1)) (1.11.4)\n",
      "Requirement already satisfied: numpy<1.28.0,>=1.21.6 in /home/hadarla/miniconda3/envs/brain-score-env/lib/python3.10/site-packages (from scipy->-r /home/hadarla/Projects/brainscore-language-fork/brainscore-language/brainscore_language/metrics/pearson_correlation/requirements.txt (line 1)) (1.26.2)\n"
     ]
    },
    {
     "name": "stderr",
     "output_type": "stream",
     "text": [
      "digest text: 100%|██████████████████████████████████████████████████████████████████████████████████| 10256/10256 [02:38<00:00, 64.63it/s]\n",
      "/home/hadarla/miniconda3/envs/brain-score-env/lib/python3.10/site-packages/xarray/core/concat.py:500: FutureWarning: unique with argument that is not not a Series, Index, ExtensionArray, or np.ndarray is deprecated and will raise in a future version.\n",
      "  common_dims = tuple(pd.unique([d for v in vars for d in v.dims]))\n"
     ]
    },
    {
     "name": "stdout",
     "output_type": "stream",
     "text": [
      "<xarray.Score ()>\n",
      "array(0.361448)\n",
      "Attributes:\n",
      "    raw:                   <xarray.Score ()>\\narray(0.31013794)\\nAttributes:\\...\n",
      "    ceiling:               <xarray.Score ()>\\narray(0.85804302)\\nAttributes:\\...\n",
      "    model_identifier:      distilgpt2\n",
      "    benchmark_identifier:  Futrell2018-pearsonr\n"
     ]
    }
   ],
   "source": [
    "from brainscore_language import score\n",
    "\n",
    "model_score = score(model_identifier='distilgpt2', benchmark_identifier='Futrell2018-pearsonr')\n",
    "print(model_score)"
   ]
  },
  {
   "cell_type": "markdown",
   "metadata": {
    "collapsed": false,
    "jupyter": {
     "outputs_hidden": false
    }
   },
   "source": [
    "The resulting `model_score` holds the normalized similarity between the given model on the given benchmark,\n",
    "and additionally contains more detailed information, e.g. about the correlation p-value:"
   ]
  },
  {
   "cell_type": "code",
   "execution_count": 2,
   "metadata": {
    "collapsed": false,
    "jupyter": {
     "outputs_hidden": false
    }
   },
   "outputs": [
    {
     "name": "stdout",
     "output_type": "stream",
     "text": [
      "<xarray.Score ()>\n",
      "array(0.31013794)\n",
      "Attributes:\n",
      "    rvalue:   0.3101379357065882\n",
      "    pvalue:   6.257099288927393e-217\n"
     ]
    }
   ],
   "source": [
    "print(model_score.raw)"
   ]
  },
  {
   "cell_type": "markdown",
   "metadata": {
    "collapsed": false,
    "jupyter": {
     "outputs_hidden": false
    }
   },
   "source": [
    "We can also run e.g. an embedding model `glove-840b` on a neural benchmark `Pereira2018.243sentences-linear`:"
   ]
  },
  {
   "cell_type": "code",
   "execution_count": 3,
   "metadata": {
    "collapsed": false,
    "jupyter": {
     "outputs_hidden": false
    }
   },
   "outputs": [
    {
     "name": "stderr",
     "output_type": "stream",
     "text": [
      "Error processing line 1 of /home/hadarla/.local/lib/python3.10/site-packages/vision-1.0.0-nspkg.pth:\n",
      "\n",
      "  Traceback (most recent call last):\n",
      "    File \"/home/hadarla/miniconda3/envs/brain-score-env/lib/python3.10/site.py\", line 186, in addpackage\n",
      "      exec(line)\n",
      "    File \"<string>\", line 1, in <module>\n",
      "    File \"<frozen importlib._bootstrap>\", line 568, in module_from_spec\n",
      "  AttributeError: 'NoneType' object has no attribute 'loader'\n",
      "\n",
      "Remainder of file ignored\n"
     ]
    },
    {
     "name": "stdout",
     "output_type": "stream",
     "text": [
      "Requirement already satisfied: scikit-learn in /home/hadarla/miniconda3/envs/brain-score-env/lib/python3.10/site-packages (from -r /home/hadarla/Projects/brainscore-language-fork/brainscore-language/brainscore_language/metrics/linear_predictivity/requirements.txt (line 1)) (1.3.2)\n",
      "Requirement already satisfied: numpy<2.0,>=1.17.3 in /home/hadarla/miniconda3/envs/brain-score-env/lib/python3.10/site-packages (from scikit-learn->-r /home/hadarla/Projects/brainscore-language-fork/brainscore-language/brainscore_language/metrics/linear_predictivity/requirements.txt (line 1)) (1.26.2)\n",
      "Requirement already satisfied: scipy>=1.5.0 in /home/hadarla/miniconda3/envs/brain-score-env/lib/python3.10/site-packages (from scikit-learn->-r /home/hadarla/Projects/brainscore-language-fork/brainscore-language/brainscore_language/metrics/linear_predictivity/requirements.txt (line 1)) (1.11.4)\n",
      "Requirement already satisfied: joblib>=1.1.1 in /home/hadarla/miniconda3/envs/brain-score-env/lib/python3.10/site-packages (from scikit-learn->-r /home/hadarla/Projects/brainscore-language-fork/brainscore-language/brainscore_language/metrics/linear_predictivity/requirements.txt (line 1)) (1.3.2)\n",
      "Requirement already satisfied: threadpoolctl>=2.0.0 in /home/hadarla/miniconda3/envs/brain-score-env/lib/python3.10/site-packages (from scikit-learn->-r /home/hadarla/Projects/brainscore-language-fork/brainscore-language/brainscore_language/metrics/linear_predictivity/requirements.txt (line 1)) (3.2.0)\n"
     ]
    },
    {
     "name": "stderr",
     "output_type": "stream",
     "text": [
      "Word honey-making not present in model\n",
      "Word they're not present in model\n",
      "Word blindne not present in model\n",
      "Word blindne not present in model\n",
      "Word blindne not present in model\n",
      "Word blindne not present in model\n",
      "Word infectiou not present in model\n",
      "Word deficiencie not present in model\n",
      "Word blindne not present in model\n",
      "Word $10000 not present in model\n",
      "Word bankruptcie not present in model\n",
      "Word lurche not present in model\n",
      "Word delicacie not present in model\n",
      "Word couldn't not present in model\n",
      "Word whipped-in not present in model\n",
      "Word they're not present in model\n",
      "Word tenderne not present in model\n",
      "Word redne not present in model\n",
      "Word redne not present in model\n",
      "Word prestigiou not present in model\n",
      "Word darkne not present in model\n",
      "Word half-closing not present in model\n",
      "Word wellne not present in model\n",
      "Word food-scarce not present in model\n",
      "Word they're not present in model\n",
      "Word harnesse not present in model\n",
      "Word Free-climbing not present in model\n",
      "Word stresse not present in model\n",
      "Word stresse not present in model\n",
      "Word isn't not present in model\n",
      "Word sweetne not present in model\n",
      "/home/hadarla/miniconda3/envs/brain-score-env/lib/python3.10/site-packages/xarray/core/concat.py:500: FutureWarning: unique with argument that is not not a Series, Index, ExtensionArray, or np.ndarray is deprecated and will raise in a future version.\n",
      "  common_dims = tuple(pd.unique([d for v in vars for d in v.dims]))\n",
      "cross-validation: 100%|███████████████████████████████████████████████████████████████████████████████████| 10/10 [00:56<00:00,  5.67s/it]\n"
     ]
    },
    {
     "name": "stdout",
     "output_type": "stream",
     "text": [
      "<xarray.Score ()>\n",
      "array(0.24217171)\n",
      "Attributes:\n",
      "    raw:                   <xarray.Score ()>\\narray(0.08567776)\\nAttributes:\\...\n",
      "    ceiling:               <xarray.Score 'data' ()>\\narray(0.35378928)\\nAttri...\n",
      "    model_identifier:      glove-840b\n",
      "    benchmark_identifier:  Pereira2018.243sentences-linear\n"
     ]
    }
   ],
   "source": [
    "from brainscore_language import score\n",
    "\n",
    "model_score = score(model_identifier='glove-840b', benchmark_identifier='Pereira2018.243sentences-linear')\n",
    "print(model_score)"
   ]
  },
  {
   "cell_type": "markdown",
   "metadata": {
    "collapsed": false,
    "jupyter": {
     "outputs_hidden": false
    }
   },
   "source": [
    "Similarly for neural benchmarks, we can look at more detailed information, e.g. the per-split and per-voxel predictivity. Note that `model_score.raw` is the unceiled score, and `model_score.raw.raw` are then the non-aggregated scores over splits and voxels."
   ]
  },
  {
   "cell_type": "code",
   "execution_count": 62,
   "metadata": {
    "collapsed": false,
    "jupyter": {
     "outputs_hidden": false
    }
   },
   "outputs": [
    {
     "name": "stdout",
     "output_type": "stream",
     "text": [
      "<xarray.Score (neuroid: 8031)>\n",
      "array([ 0.21013038,  0.32312842,  0.04459436, ..., -0.04660973,\n",
      "        0.10268185,  0.14235734])\n",
      "Coordinates:\n",
      "    split            int64 0\n",
      "  * neuroid          (neuroid) MultiIndex\n",
      "  - subject          (neuroid) object '018' '018' '018' ... '426' '426' '426'\n",
      "  - voxel_num        (neuroid) int64 1001 1002 10026 10027 ... 9986 9987 9988\n",
      "  - filter_strategy  (neuroid) float64 nan nan nan nan nan ... nan nan nan nan\n",
      "  - atlas_selection  (neuroid) object 'from90to100prcnt' ... 'from90to100prcnt'\n",
      "  - roi              (neuroid) object 'LH_AntTemp' ... 'RH_PostTemp'\n",
      "  - indices_in_3d    (neuroid) int64 131599 131600 249945 ... 234883 234884\n",
      "  - col_to_coord_1   (neuroid) int64 64 65 68 69 66 67 68 ... 12 13 14 15 16 17\n",
      "  - col_to_coord_2   (neuroid) int64 51 51 29 29 51 51 30 ... 29 29 29 29 29 29\n",
      "  - col_to_coord_3   (neuroid) int64 18 18 34 34 18 18 34 ... 32 32 32 32 32 32\n",
      "  - neuroid_id       (neuroid) object '018.1001' '018.1002' ... '426.9988'\n"
     ]
    }
   ],
   "source": [
    "print(model_score.raw.raw[0])"
   ]
  },
  {
   "cell_type": "code",
   "execution_count": 7,
   "metadata": {},
   "outputs": [
    {
     "data": {
      "text/plain": [
       "(10, 8031)"
      ]
     },
     "execution_count": 7,
     "metadata": {},
     "output_type": "execute_result"
    }
   ],
   "source": [
    "import numpy as np\n",
    "from matplotlib import pyplot\n",
    "\n",
    "np.shape(model_score.raw.raw)\n"
   ]
  },
  {
   "cell_type": "code",
   "execution_count": 83,
   "metadata": {},
   "outputs": [
    {
     "data": {
      "text/html": [
       "<div><svg style=\"position: absolute; width: 0; height: 0; overflow: hidden\">\n",
       "<defs>\n",
       "<symbol id=\"icon-database\" viewBox=\"0 0 32 32\">\n",
       "<path d=\"M16 0c-8.837 0-16 2.239-16 5v4c0 2.761 7.163 5 16 5s16-2.239 16-5v-4c0-2.761-7.163-5-16-5z\"></path>\n",
       "<path d=\"M16 17c-8.837 0-16-2.239-16-5v6c0 2.761 7.163 5 16 5s16-2.239 16-5v-6c0 2.761-7.163 5-16 5z\"></path>\n",
       "<path d=\"M16 26c-8.837 0-16-2.239-16-5v6c0 2.761 7.163 5 16 5s16-2.239 16-5v-6c0 2.761-7.163 5-16 5z\"></path>\n",
       "</symbol>\n",
       "<symbol id=\"icon-file-text2\" viewBox=\"0 0 32 32\">\n",
       "<path d=\"M28.681 7.159c-0.694-0.947-1.662-2.053-2.724-3.116s-2.169-2.030-3.116-2.724c-1.612-1.182-2.393-1.319-2.841-1.319h-15.5c-1.378 0-2.5 1.121-2.5 2.5v27c0 1.378 1.122 2.5 2.5 2.5h23c1.378 0 2.5-1.122 2.5-2.5v-19.5c0-0.448-0.137-1.23-1.319-2.841zM24.543 5.457c0.959 0.959 1.712 1.825 2.268 2.543h-4.811v-4.811c0.718 0.556 1.584 1.309 2.543 2.268zM28 29.5c0 0.271-0.229 0.5-0.5 0.5h-23c-0.271 0-0.5-0.229-0.5-0.5v-27c0-0.271 0.229-0.5 0.5-0.5 0 0 15.499-0 15.5 0v7c0 0.552 0.448 1 1 1h7v19.5z\"></path>\n",
       "<path d=\"M23 26h-14c-0.552 0-1-0.448-1-1s0.448-1 1-1h14c0.552 0 1 0.448 1 1s-0.448 1-1 1z\"></path>\n",
       "<path d=\"M23 22h-14c-0.552 0-1-0.448-1-1s0.448-1 1-1h14c0.552 0 1 0.448 1 1s-0.448 1-1 1z\"></path>\n",
       "<path d=\"M23 18h-14c-0.552 0-1-0.448-1-1s0.448-1 1-1h14c0.552 0 1 0.448 1 1s-0.448 1-1 1z\"></path>\n",
       "</symbol>\n",
       "</defs>\n",
       "</svg>\n",
       "<style>/* CSS stylesheet for displaying xarray objects in jupyterlab.\n",
       " *\n",
       " */\n",
       "\n",
       ":root {\n",
       "  --xr-font-color0: var(--jp-content-font-color0, rgba(0, 0, 0, 1));\n",
       "  --xr-font-color2: var(--jp-content-font-color2, rgba(0, 0, 0, 0.54));\n",
       "  --xr-font-color3: var(--jp-content-font-color3, rgba(0, 0, 0, 0.38));\n",
       "  --xr-border-color: var(--jp-border-color2, #e0e0e0);\n",
       "  --xr-disabled-color: var(--jp-layout-color3, #bdbdbd);\n",
       "  --xr-background-color: var(--jp-layout-color0, white);\n",
       "  --xr-background-color-row-even: var(--jp-layout-color1, white);\n",
       "  --xr-background-color-row-odd: var(--jp-layout-color2, #eeeeee);\n",
       "}\n",
       "\n",
       "html[theme=dark],\n",
       "body.vscode-dark {\n",
       "  --xr-font-color0: rgba(255, 255, 255, 1);\n",
       "  --xr-font-color2: rgba(255, 255, 255, 0.54);\n",
       "  --xr-font-color3: rgba(255, 255, 255, 0.38);\n",
       "  --xr-border-color: #1F1F1F;\n",
       "  --xr-disabled-color: #515151;\n",
       "  --xr-background-color: #111111;\n",
       "  --xr-background-color-row-even: #111111;\n",
       "  --xr-background-color-row-odd: #313131;\n",
       "}\n",
       "\n",
       ".xr-wrap {\n",
       "  display: block !important;\n",
       "  min-width: 300px;\n",
       "  max-width: 700px;\n",
       "}\n",
       "\n",
       ".xr-text-repr-fallback {\n",
       "  /* fallback to plain text repr when CSS is not injected (untrusted notebook) */\n",
       "  display: none;\n",
       "}\n",
       "\n",
       ".xr-header {\n",
       "  padding-top: 6px;\n",
       "  padding-bottom: 6px;\n",
       "  margin-bottom: 4px;\n",
       "  border-bottom: solid 1px var(--xr-border-color);\n",
       "}\n",
       "\n",
       ".xr-header > div,\n",
       ".xr-header > ul {\n",
       "  display: inline;\n",
       "  margin-top: 0;\n",
       "  margin-bottom: 0;\n",
       "}\n",
       "\n",
       ".xr-obj-type,\n",
       ".xr-array-name {\n",
       "  margin-left: 2px;\n",
       "  margin-right: 10px;\n",
       "}\n",
       "\n",
       ".xr-obj-type {\n",
       "  color: var(--xr-font-color2);\n",
       "}\n",
       "\n",
       ".xr-sections {\n",
       "  padding-left: 0 !important;\n",
       "  display: grid;\n",
       "  grid-template-columns: 150px auto auto 1fr 20px 20px;\n",
       "}\n",
       "\n",
       ".xr-section-item {\n",
       "  display: contents;\n",
       "}\n",
       "\n",
       ".xr-section-item input {\n",
       "  display: none;\n",
       "}\n",
       "\n",
       ".xr-section-item input + label {\n",
       "  color: var(--xr-disabled-color);\n",
       "}\n",
       "\n",
       ".xr-section-item input:enabled + label {\n",
       "  cursor: pointer;\n",
       "  color: var(--xr-font-color2);\n",
       "}\n",
       "\n",
       ".xr-section-item input:enabled + label:hover {\n",
       "  color: var(--xr-font-color0);\n",
       "}\n",
       "\n",
       ".xr-section-summary {\n",
       "  grid-column: 1;\n",
       "  color: var(--xr-font-color2);\n",
       "  font-weight: 500;\n",
       "}\n",
       "\n",
       ".xr-section-summary > span {\n",
       "  display: inline-block;\n",
       "  padding-left: 0.5em;\n",
       "}\n",
       "\n",
       ".xr-section-summary-in:disabled + label {\n",
       "  color: var(--xr-font-color2);\n",
       "}\n",
       "\n",
       ".xr-section-summary-in + label:before {\n",
       "  display: inline-block;\n",
       "  content: '►';\n",
       "  font-size: 11px;\n",
       "  width: 15px;\n",
       "  text-align: center;\n",
       "}\n",
       "\n",
       ".xr-section-summary-in:disabled + label:before {\n",
       "  color: var(--xr-disabled-color);\n",
       "}\n",
       "\n",
       ".xr-section-summary-in:checked + label:before {\n",
       "  content: '▼';\n",
       "}\n",
       "\n",
       ".xr-section-summary-in:checked + label > span {\n",
       "  display: none;\n",
       "}\n",
       "\n",
       ".xr-section-summary,\n",
       ".xr-section-inline-details {\n",
       "  padding-top: 4px;\n",
       "  padding-bottom: 4px;\n",
       "}\n",
       "\n",
       ".xr-section-inline-details {\n",
       "  grid-column: 2 / -1;\n",
       "}\n",
       "\n",
       ".xr-section-details {\n",
       "  display: none;\n",
       "  grid-column: 1 / -1;\n",
       "  margin-bottom: 5px;\n",
       "}\n",
       "\n",
       ".xr-section-summary-in:checked ~ .xr-section-details {\n",
       "  display: contents;\n",
       "}\n",
       "\n",
       ".xr-array-wrap {\n",
       "  grid-column: 1 / -1;\n",
       "  display: grid;\n",
       "  grid-template-columns: 20px auto;\n",
       "}\n",
       "\n",
       ".xr-array-wrap > label {\n",
       "  grid-column: 1;\n",
       "  vertical-align: top;\n",
       "}\n",
       "\n",
       ".xr-preview {\n",
       "  color: var(--xr-font-color3);\n",
       "}\n",
       "\n",
       ".xr-array-preview,\n",
       ".xr-array-data {\n",
       "  padding: 0 5px !important;\n",
       "  grid-column: 2;\n",
       "}\n",
       "\n",
       ".xr-array-data,\n",
       ".xr-array-in:checked ~ .xr-array-preview {\n",
       "  display: none;\n",
       "}\n",
       "\n",
       ".xr-array-in:checked ~ .xr-array-data,\n",
       ".xr-array-preview {\n",
       "  display: inline-block;\n",
       "}\n",
       "\n",
       ".xr-dim-list {\n",
       "  display: inline-block !important;\n",
       "  list-style: none;\n",
       "  padding: 0 !important;\n",
       "  margin: 0;\n",
       "}\n",
       "\n",
       ".xr-dim-list li {\n",
       "  display: inline-block;\n",
       "  padding: 0;\n",
       "  margin: 0;\n",
       "}\n",
       "\n",
       ".xr-dim-list:before {\n",
       "  content: '(';\n",
       "}\n",
       "\n",
       ".xr-dim-list:after {\n",
       "  content: ')';\n",
       "}\n",
       "\n",
       ".xr-dim-list li:not(:last-child):after {\n",
       "  content: ',';\n",
       "  padding-right: 5px;\n",
       "}\n",
       "\n",
       ".xr-has-index {\n",
       "  font-weight: bold;\n",
       "}\n",
       "\n",
       ".xr-var-list,\n",
       ".xr-var-item {\n",
       "  display: contents;\n",
       "}\n",
       "\n",
       ".xr-var-item > div,\n",
       ".xr-var-item label,\n",
       ".xr-var-item > .xr-var-name span {\n",
       "  background-color: var(--xr-background-color-row-even);\n",
       "  margin-bottom: 0;\n",
       "}\n",
       "\n",
       ".xr-var-item > .xr-var-name:hover span {\n",
       "  padding-right: 5px;\n",
       "}\n",
       "\n",
       ".xr-var-list > li:nth-child(odd) > div,\n",
       ".xr-var-list > li:nth-child(odd) > label,\n",
       ".xr-var-list > li:nth-child(odd) > .xr-var-name span {\n",
       "  background-color: var(--xr-background-color-row-odd);\n",
       "}\n",
       "\n",
       ".xr-var-name {\n",
       "  grid-column: 1;\n",
       "}\n",
       "\n",
       ".xr-var-dims {\n",
       "  grid-column: 2;\n",
       "}\n",
       "\n",
       ".xr-var-dtype {\n",
       "  grid-column: 3;\n",
       "  text-align: right;\n",
       "  color: var(--xr-font-color2);\n",
       "}\n",
       "\n",
       ".xr-var-preview {\n",
       "  grid-column: 4;\n",
       "}\n",
       "\n",
       ".xr-var-name,\n",
       ".xr-var-dims,\n",
       ".xr-var-dtype,\n",
       ".xr-preview,\n",
       ".xr-attrs dt {\n",
       "  white-space: nowrap;\n",
       "  overflow: hidden;\n",
       "  text-overflow: ellipsis;\n",
       "  padding-right: 10px;\n",
       "}\n",
       "\n",
       ".xr-var-name:hover,\n",
       ".xr-var-dims:hover,\n",
       ".xr-var-dtype:hover,\n",
       ".xr-attrs dt:hover {\n",
       "  overflow: visible;\n",
       "  width: auto;\n",
       "  z-index: 1;\n",
       "}\n",
       "\n",
       ".xr-var-attrs,\n",
       ".xr-var-data {\n",
       "  display: none;\n",
       "  background-color: var(--xr-background-color) !important;\n",
       "  padding-bottom: 5px !important;\n",
       "}\n",
       "\n",
       ".xr-var-attrs-in:checked ~ .xr-var-attrs,\n",
       ".xr-var-data-in:checked ~ .xr-var-data {\n",
       "  display: block;\n",
       "}\n",
       "\n",
       ".xr-var-data > table {\n",
       "  float: right;\n",
       "}\n",
       "\n",
       ".xr-var-name span,\n",
       ".xr-var-data,\n",
       ".xr-attrs {\n",
       "  padding-left: 25px !important;\n",
       "}\n",
       "\n",
       ".xr-attrs,\n",
       ".xr-var-attrs,\n",
       ".xr-var-data {\n",
       "  grid-column: 1 / -1;\n",
       "}\n",
       "\n",
       "dl.xr-attrs {\n",
       "  padding: 0;\n",
       "  margin: 0;\n",
       "  display: grid;\n",
       "  grid-template-columns: 125px auto;\n",
       "}\n",
       "\n",
       ".xr-attrs dt,\n",
       ".xr-attrs dd {\n",
       "  padding: 0;\n",
       "  margin: 0;\n",
       "  float: left;\n",
       "  padding-right: 10px;\n",
       "  width: auto;\n",
       "}\n",
       "\n",
       ".xr-attrs dt {\n",
       "  font-weight: normal;\n",
       "  grid-column: 1;\n",
       "}\n",
       "\n",
       ".xr-attrs dt:hover span {\n",
       "  display: inline-block;\n",
       "  background: var(--xr-background-color);\n",
       "  padding-right: 10px;\n",
       "}\n",
       "\n",
       ".xr-attrs dd {\n",
       "  grid-column: 2;\n",
       "  white-space: pre-wrap;\n",
       "  word-break: break-all;\n",
       "}\n",
       "\n",
       ".xr-icon-database,\n",
       ".xr-icon-file-text2 {\n",
       "  display: inline-block;\n",
       "  vertical-align: middle;\n",
       "  width: 1em;\n",
       "  height: 1.5em !important;\n",
       "  stroke-width: 0;\n",
       "  stroke: currentColor;\n",
       "  fill: currentColor;\n",
       "}\n",
       "</style><pre class='xr-text-repr-fallback'>&lt;xarray.Score &#x27;roi&#x27; (neuroid: 8031)&gt;\n",
       "array([&#x27;LH_AntTemp&#x27;, &#x27;LH_AntTemp&#x27;, &#x27;LH_PostTemp&#x27;, ..., &#x27;RH_PostTemp&#x27;,\n",
       "       &#x27;RH_PostTemp&#x27;, &#x27;RH_PostTemp&#x27;], dtype=object)\n",
       "Coordinates:\n",
       "    split            int64 0\n",
       "  * neuroid          (neuroid) MultiIndex\n",
       "  - subject          (neuroid) object &#x27;018&#x27; &#x27;018&#x27; &#x27;018&#x27; ... &#x27;426&#x27; &#x27;426&#x27; &#x27;426&#x27;\n",
       "  - voxel_num        (neuroid) int64 1001 1002 10026 10027 ... 9986 9987 9988\n",
       "  - filter_strategy  (neuroid) float64 nan nan nan nan nan ... nan nan nan nan\n",
       "  - atlas_selection  (neuroid) object &#x27;from90to100prcnt&#x27; ... &#x27;from90to100prcnt&#x27;\n",
       "  - roi              (neuroid) object &#x27;LH_AntTemp&#x27; ... &#x27;RH_PostTemp&#x27;\n",
       "  - indices_in_3d    (neuroid) int64 131599 131600 249945 ... 234883 234884\n",
       "  - col_to_coord_1   (neuroid) int64 64 65 68 69 66 67 68 ... 12 13 14 15 16 17\n",
       "  - col_to_coord_2   (neuroid) int64 51 51 29 29 51 51 30 ... 29 29 29 29 29 29\n",
       "  - col_to_coord_3   (neuroid) int64 18 18 34 34 18 18 34 ... 32 32 32 32 32 32\n",
       "  - neuroid_id       (neuroid) object &#x27;018.1001&#x27; &#x27;018.1002&#x27; ... &#x27;426.9988&#x27;</pre><div class='xr-wrap' style='display:none'><div class='xr-header'><div class='xr-obj-type'>xarray.Score</div><div class='xr-array-name'>'roi'</div><ul class='xr-dim-list'><li><span class='xr-has-index'>neuroid</span>: 8031</li></ul></div><ul class='xr-sections'><li class='xr-section-item'><div class='xr-array-wrap'><input id='section-9c42b6f6-5966-457c-a37e-2996f1b1c79c' class='xr-array-in' type='checkbox' checked><label for='section-9c42b6f6-5966-457c-a37e-2996f1b1c79c' title='Show/hide data repr'><svg class='icon xr-icon-database'><use xlink:href='#icon-database'></use></svg></label><div class='xr-array-preview xr-preview'><span>&#x27;LH_AntTemp&#x27; &#x27;LH_AntTemp&#x27; ... &#x27;RH_PostTemp&#x27; &#x27;RH_PostTemp&#x27;</span></div><div class='xr-array-data'><pre>array([&#x27;LH_AntTemp&#x27;, &#x27;LH_AntTemp&#x27;, &#x27;LH_PostTemp&#x27;, ..., &#x27;RH_PostTemp&#x27;,\n",
       "       &#x27;RH_PostTemp&#x27;, &#x27;RH_PostTemp&#x27;], dtype=object)</pre></div></div></li><li class='xr-section-item'><input id='section-37ca3eed-e0e0-4131-9953-b0f59eb00d0f' class='xr-section-summary-in' type='checkbox'  checked><label for='section-37ca3eed-e0e0-4131-9953-b0f59eb00d0f' class='xr-section-summary' >Coordinates: <span>(2)</span></label><div class='xr-section-inline-details'></div><div class='xr-section-details'><ul class='xr-var-list'><li class='xr-var-item'><div class='xr-var-name'><span>split</span></div><div class='xr-var-dims'>()</div><div class='xr-var-dtype'>int64</div><div class='xr-var-preview xr-preview'>0</div><input id='attrs-a6820aa0-e14a-439f-920d-d060a91f382b' class='xr-var-attrs-in' type='checkbox' disabled><label for='attrs-a6820aa0-e14a-439f-920d-d060a91f382b' title='Show/Hide attributes'><svg class='icon xr-icon-file-text2'><use xlink:href='#icon-file-text2'></use></svg></label><input id='data-b0a73d03-6f7c-4b1c-9db8-15a459862dbe' class='xr-var-data-in' type='checkbox'><label for='data-b0a73d03-6f7c-4b1c-9db8-15a459862dbe' title='Show/Hide data repr'><svg class='icon xr-icon-database'><use xlink:href='#icon-database'></use></svg></label><div class='xr-var-attrs'><dl class='xr-attrs'></dl></div><div class='xr-var-data'><pre>array(0)</pre></div></li><li class='xr-var-item'><div class='xr-var-name'><span class='xr-has-index'>neuroid</span></div><div class='xr-var-dims'>(neuroid)</div><div class='xr-var-dtype'>MultiIndex</div><div class='xr-var-preview xr-preview'>(subject, voxel_num, filter_strategy, atlas_selection, roi, indices_in_3d, col_to_coord_1, col_to_coord_2, col_to_coord_3, neuroid_id)</div><input id='attrs-5a7c1fd3-6997-444a-85a2-bf18caa298ba' class='xr-var-attrs-in' type='checkbox' disabled><label for='attrs-5a7c1fd3-6997-444a-85a2-bf18caa298ba' title='Show/Hide attributes'><svg class='icon xr-icon-file-text2'><use xlink:href='#icon-file-text2'></use></svg></label><input id='data-6d77ccc3-892d-47df-959d-b89862b3ed71' class='xr-var-data-in' type='checkbox'><label for='data-6d77ccc3-892d-47df-959d-b89862b3ed71' title='Show/Hide data repr'><svg class='icon xr-icon-database'><use xlink:href='#icon-database'></use></svg></label><div class='xr-var-attrs'><dl class='xr-attrs'></dl></div><div class='xr-var-data'><pre>array([(&#x27;018&#x27;, 1001, nan, &#x27;from90to100prcnt&#x27;, &#x27;LH_AntTemp&#x27;, 131599, 64, 51, 18, &#x27;018.1001&#x27;),\n",
       "       (&#x27;018&#x27;, 1002, nan, &#x27;from90to100prcnt&#x27;, &#x27;LH_AntTemp&#x27;, 131600, 65, 51, 18, &#x27;018.1002&#x27;),\n",
       "       (&#x27;018&#x27;, 10026, nan, &#x27;from90to100prcnt&#x27;, &#x27;LH_PostTemp&#x27;, 249945, 68, 29, 34, &#x27;018.10026&#x27;),\n",
       "       ...,\n",
       "       (&#x27;426&#x27;, 9986, nan, &#x27;from90to100prcnt&#x27;, &#x27;RH_PostTemp&#x27;, 234882, 15, 29, 32, &#x27;426.9986&#x27;),\n",
       "       (&#x27;426&#x27;, 9987, nan, &#x27;from90to100prcnt&#x27;, &#x27;RH_PostTemp&#x27;, 234883, 16, 29, 32, &#x27;426.9987&#x27;),\n",
       "       (&#x27;426&#x27;, 9988, nan, &#x27;from90to100prcnt&#x27;, &#x27;RH_PostTemp&#x27;, 234884, 17, 29, 32, &#x27;426.9988&#x27;)],\n",
       "      dtype=object)</pre></div></li><li class='xr-var-item'><div class='xr-var-name'><span>subject</span></div><div class='xr-var-dims'>(neuroid)</div><div class='xr-var-dtype'>object</div><div class='xr-var-preview xr-preview'>&#x27;018&#x27; &#x27;018&#x27; &#x27;018&#x27; ... &#x27;426&#x27; &#x27;426&#x27;</div><input id='attrs-4f361969-a252-441b-b99b-bd80adf5ba50' class='xr-var-attrs-in' type='checkbox' disabled><label for='attrs-4f361969-a252-441b-b99b-bd80adf5ba50' title='Show/Hide attributes'><svg class='icon xr-icon-file-text2'><use xlink:href='#icon-file-text2'></use></svg></label><input id='data-9fd5013d-5cb1-4c92-bb63-a4f64f621f4b' class='xr-var-data-in' type='checkbox'><label for='data-9fd5013d-5cb1-4c92-bb63-a4f64f621f4b' title='Show/Hide data repr'><svg class='icon xr-icon-database'><use xlink:href='#icon-database'></use></svg></label><div class='xr-var-attrs'><dl class='xr-attrs'></dl></div><div class='xr-var-data'><pre>array([&#x27;018&#x27;, &#x27;018&#x27;, &#x27;018&#x27;, ..., &#x27;426&#x27;, &#x27;426&#x27;, &#x27;426&#x27;], dtype=object)</pre></div></li><li class='xr-var-item'><div class='xr-var-name'><span>voxel_num</span></div><div class='xr-var-dims'>(neuroid)</div><div class='xr-var-dtype'>int64</div><div class='xr-var-preview xr-preview'>1001 1002 10026 ... 9986 9987 9988</div><input id='attrs-5400f2bc-5b1b-4214-a42a-94635ee00b0b' class='xr-var-attrs-in' type='checkbox' disabled><label for='attrs-5400f2bc-5b1b-4214-a42a-94635ee00b0b' title='Show/Hide attributes'><svg class='icon xr-icon-file-text2'><use xlink:href='#icon-file-text2'></use></svg></label><input id='data-a4afc4e4-afcc-481f-a72e-85caf8dcf63f' class='xr-var-data-in' type='checkbox'><label for='data-a4afc4e4-afcc-481f-a72e-85caf8dcf63f' title='Show/Hide data repr'><svg class='icon xr-icon-database'><use xlink:href='#icon-database'></use></svg></label><div class='xr-var-attrs'><dl class='xr-attrs'></dl></div><div class='xr-var-data'><pre>array([ 1001,  1002, 10026, ...,  9986,  9987,  9988])</pre></div></li><li class='xr-var-item'><div class='xr-var-name'><span>filter_strategy</span></div><div class='xr-var-dims'>(neuroid)</div><div class='xr-var-dtype'>float64</div><div class='xr-var-preview xr-preview'>nan nan nan nan ... nan nan nan nan</div><input id='attrs-81a5b0c6-04f4-42b5-9f64-d305097d0dd3' class='xr-var-attrs-in' type='checkbox' disabled><label for='attrs-81a5b0c6-04f4-42b5-9f64-d305097d0dd3' title='Show/Hide attributes'><svg class='icon xr-icon-file-text2'><use xlink:href='#icon-file-text2'></use></svg></label><input id='data-be7d3737-3849-4caa-a795-4e9a81968a9d' class='xr-var-data-in' type='checkbox'><label for='data-be7d3737-3849-4caa-a795-4e9a81968a9d' title='Show/Hide data repr'><svg class='icon xr-icon-database'><use xlink:href='#icon-database'></use></svg></label><div class='xr-var-attrs'><dl class='xr-attrs'></dl></div><div class='xr-var-data'><pre>array([nan, nan, nan, ..., nan, nan, nan])</pre></div></li><li class='xr-var-item'><div class='xr-var-name'><span>atlas_selection</span></div><div class='xr-var-dims'>(neuroid)</div><div class='xr-var-dtype'>object</div><div class='xr-var-preview xr-preview'>&#x27;from90to100prcnt&#x27; ... &#x27;from90to...</div><input id='attrs-a8135263-a5de-48b5-a48c-2e10ddc15f3e' class='xr-var-attrs-in' type='checkbox' disabled><label for='attrs-a8135263-a5de-48b5-a48c-2e10ddc15f3e' title='Show/Hide attributes'><svg class='icon xr-icon-file-text2'><use xlink:href='#icon-file-text2'></use></svg></label><input id='data-54375d84-1497-4379-b9df-e5eec3fe2d01' class='xr-var-data-in' type='checkbox'><label for='data-54375d84-1497-4379-b9df-e5eec3fe2d01' title='Show/Hide data repr'><svg class='icon xr-icon-database'><use xlink:href='#icon-database'></use></svg></label><div class='xr-var-attrs'><dl class='xr-attrs'></dl></div><div class='xr-var-data'><pre>array([&#x27;from90to100prcnt&#x27;, &#x27;from90to100prcnt&#x27;, &#x27;from90to100prcnt&#x27;, ...,\n",
       "       &#x27;from90to100prcnt&#x27;, &#x27;from90to100prcnt&#x27;, &#x27;from90to100prcnt&#x27;],\n",
       "      dtype=object)</pre></div></li><li class='xr-var-item'><div class='xr-var-name'><span>roi</span></div><div class='xr-var-dims'>(neuroid)</div><div class='xr-var-dtype'>object</div><div class='xr-var-preview xr-preview'>&#x27;LH_AntTemp&#x27; ... &#x27;RH_PostTemp&#x27;</div><input id='attrs-99a6e6ad-b210-4d64-831a-faf56d22ba40' class='xr-var-attrs-in' type='checkbox' disabled><label for='attrs-99a6e6ad-b210-4d64-831a-faf56d22ba40' title='Show/Hide attributes'><svg class='icon xr-icon-file-text2'><use xlink:href='#icon-file-text2'></use></svg></label><input id='data-fdbc34b8-d027-45e6-a1b3-834d7330e2cd' class='xr-var-data-in' type='checkbox'><label for='data-fdbc34b8-d027-45e6-a1b3-834d7330e2cd' title='Show/Hide data repr'><svg class='icon xr-icon-database'><use xlink:href='#icon-database'></use></svg></label><div class='xr-var-attrs'><dl class='xr-attrs'></dl></div><div class='xr-var-data'><pre>array([&#x27;LH_AntTemp&#x27;, &#x27;LH_AntTemp&#x27;, &#x27;LH_PostTemp&#x27;, ..., &#x27;RH_PostTemp&#x27;,\n",
       "       &#x27;RH_PostTemp&#x27;, &#x27;RH_PostTemp&#x27;], dtype=object)</pre></div></li><li class='xr-var-item'><div class='xr-var-name'><span>indices_in_3d</span></div><div class='xr-var-dims'>(neuroid)</div><div class='xr-var-dtype'>int64</div><div class='xr-var-preview xr-preview'>131599 131600 ... 234883 234884</div><input id='attrs-b796c5e8-fdab-4be3-a527-e03aec9d6bba' class='xr-var-attrs-in' type='checkbox' disabled><label for='attrs-b796c5e8-fdab-4be3-a527-e03aec9d6bba' title='Show/Hide attributes'><svg class='icon xr-icon-file-text2'><use xlink:href='#icon-file-text2'></use></svg></label><input id='data-ec9f1024-2653-49ae-859f-9a0764000680' class='xr-var-data-in' type='checkbox'><label for='data-ec9f1024-2653-49ae-859f-9a0764000680' title='Show/Hide data repr'><svg class='icon xr-icon-database'><use xlink:href='#icon-database'></use></svg></label><div class='xr-var-attrs'><dl class='xr-attrs'></dl></div><div class='xr-var-data'><pre>array([131599, 131600, 249945, ..., 234882, 234883, 234884])</pre></div></li><li class='xr-var-item'><div class='xr-var-name'><span>col_to_coord_1</span></div><div class='xr-var-dims'>(neuroid)</div><div class='xr-var-dtype'>int64</div><div class='xr-var-preview xr-preview'>64 65 68 69 66 ... 13 14 15 16 17</div><input id='attrs-1d48bb37-f054-499d-b42f-81c0229f5711' class='xr-var-attrs-in' type='checkbox' disabled><label for='attrs-1d48bb37-f054-499d-b42f-81c0229f5711' title='Show/Hide attributes'><svg class='icon xr-icon-file-text2'><use xlink:href='#icon-file-text2'></use></svg></label><input id='data-480eb770-34c3-4dc3-bb2f-fb635e354944' class='xr-var-data-in' type='checkbox'><label for='data-480eb770-34c3-4dc3-bb2f-fb635e354944' title='Show/Hide data repr'><svg class='icon xr-icon-database'><use xlink:href='#icon-database'></use></svg></label><div class='xr-var-attrs'><dl class='xr-attrs'></dl></div><div class='xr-var-data'><pre>array([64, 65, 68, ..., 15, 16, 17])</pre></div></li><li class='xr-var-item'><div class='xr-var-name'><span>col_to_coord_2</span></div><div class='xr-var-dims'>(neuroid)</div><div class='xr-var-dtype'>int64</div><div class='xr-var-preview xr-preview'>51 51 29 29 51 ... 29 29 29 29 29</div><input id='attrs-5b876d9b-c896-4605-9e7b-3859c766601d' class='xr-var-attrs-in' type='checkbox' disabled><label for='attrs-5b876d9b-c896-4605-9e7b-3859c766601d' title='Show/Hide attributes'><svg class='icon xr-icon-file-text2'><use xlink:href='#icon-file-text2'></use></svg></label><input id='data-a18116c9-848f-4085-b0ff-1dd9f7001f89' class='xr-var-data-in' type='checkbox'><label for='data-a18116c9-848f-4085-b0ff-1dd9f7001f89' title='Show/Hide data repr'><svg class='icon xr-icon-database'><use xlink:href='#icon-database'></use></svg></label><div class='xr-var-attrs'><dl class='xr-attrs'></dl></div><div class='xr-var-data'><pre>array([51, 51, 29, ..., 29, 29, 29])</pre></div></li><li class='xr-var-item'><div class='xr-var-name'><span>col_to_coord_3</span></div><div class='xr-var-dims'>(neuroid)</div><div class='xr-var-dtype'>int64</div><div class='xr-var-preview xr-preview'>18 18 34 34 18 ... 32 32 32 32 32</div><input id='attrs-7a614dd0-fe36-41be-8d24-c2dae821cfc4' class='xr-var-attrs-in' type='checkbox' disabled><label for='attrs-7a614dd0-fe36-41be-8d24-c2dae821cfc4' title='Show/Hide attributes'><svg class='icon xr-icon-file-text2'><use xlink:href='#icon-file-text2'></use></svg></label><input id='data-afb659f5-e316-4380-9fc8-48b7ec82a1b4' class='xr-var-data-in' type='checkbox'><label for='data-afb659f5-e316-4380-9fc8-48b7ec82a1b4' title='Show/Hide data repr'><svg class='icon xr-icon-database'><use xlink:href='#icon-database'></use></svg></label><div class='xr-var-attrs'><dl class='xr-attrs'></dl></div><div class='xr-var-data'><pre>array([18, 18, 34, ..., 32, 32, 32])</pre></div></li><li class='xr-var-item'><div class='xr-var-name'><span>neuroid_id</span></div><div class='xr-var-dims'>(neuroid)</div><div class='xr-var-dtype'>object</div><div class='xr-var-preview xr-preview'>&#x27;018.1001&#x27; ... &#x27;426.9988&#x27;</div><input id='attrs-34359648-374a-4224-a837-f9cb1a2ac5a9' class='xr-var-attrs-in' type='checkbox' disabled><label for='attrs-34359648-374a-4224-a837-f9cb1a2ac5a9' title='Show/Hide attributes'><svg class='icon xr-icon-file-text2'><use xlink:href='#icon-file-text2'></use></svg></label><input id='data-37203023-7814-45ec-8baa-1bc747be4328' class='xr-var-data-in' type='checkbox'><label for='data-37203023-7814-45ec-8baa-1bc747be4328' title='Show/Hide data repr'><svg class='icon xr-icon-database'><use xlink:href='#icon-database'></use></svg></label><div class='xr-var-attrs'><dl class='xr-attrs'></dl></div><div class='xr-var-data'><pre>array([&#x27;018.1001&#x27;, &#x27;018.1002&#x27;, &#x27;018.10026&#x27;, ..., &#x27;426.9986&#x27;, &#x27;426.9987&#x27;,\n",
       "       &#x27;426.9988&#x27;], dtype=object)</pre></div></li></ul></div></li><li class='xr-section-item'><input id='section-284cb7cd-1ffa-4b33-bd0e-2628f29382d7' class='xr-section-summary-in' type='checkbox' disabled ><label for='section-284cb7cd-1ffa-4b33-bd0e-2628f29382d7' class='xr-section-summary'  title='Expand/collapse section'>Attributes: <span>(0)</span></label><div class='xr-section-inline-details'></div><div class='xr-section-details'><dl class='xr-attrs'></dl></div></li></ul></div></div>"
      ],
      "text/plain": [
       "<xarray.Score 'roi' (neuroid: 8031)>\n",
       "array(['LH_AntTemp', 'LH_AntTemp', 'LH_PostTemp', ..., 'RH_PostTemp',\n",
       "       'RH_PostTemp', 'RH_PostTemp'], dtype=object)\n",
       "Coordinates:\n",
       "    split            int64 0\n",
       "  * neuroid          (neuroid) MultiIndex\n",
       "  - subject          (neuroid) object '018' '018' '018' ... '426' '426' '426'\n",
       "  - voxel_num        (neuroid) int64 1001 1002 10026 10027 ... 9986 9987 9988\n",
       "  - filter_strategy  (neuroid) float64 nan nan nan nan nan ... nan nan nan nan\n",
       "  - atlas_selection  (neuroid) object 'from90to100prcnt' ... 'from90to100prcnt'\n",
       "  - roi              (neuroid) object 'LH_AntTemp' ... 'RH_PostTemp'\n",
       "  - indices_in_3d    (neuroid) int64 131599 131600 249945 ... 234883 234884\n",
       "  - col_to_coord_1   (neuroid) int64 64 65 68 69 66 67 68 ... 12 13 14 15 16 17\n",
       "  - col_to_coord_2   (neuroid) int64 51 51 29 29 51 51 30 ... 29 29 29 29 29 29\n",
       "  - col_to_coord_3   (neuroid) int64 18 18 34 34 18 18 34 ... 32 32 32 32 32 32\n",
       "  - neuroid_id       (neuroid) object '018.1001' '018.1002' ... '426.9988'"
      ]
     },
     "execution_count": 83,
     "metadata": {},
     "output_type": "execute_result"
    }
   ],
   "source": [
    "model_score.raw.raw[0].roi"
   ]
  },
  {
   "cell_type": "code",
   "execution_count": 88,
   "metadata": {},
   "outputs": [
    {
     "data": {
      "text/plain": [
       "array(['LH_AngG', 'LH_AntTemp', 'LH_IFG', 'LH_IFGorb', 'LH_MFG',\n",
       "       'LH_PostTemp', 'RH_AngG', 'RH_AntTemp', 'RH_IFG', 'RH_IFGorb',\n",
       "       'RH_MFG', 'RH_PostTemp'], dtype=object)"
      ]
     },
     "execution_count": 88,
     "metadata": {},
     "output_type": "execute_result"
    }
   ],
   "source": [
    "np.unique(model_score.raw.raw[0].roi)"
   ]
  },
  {
   "cell_type": "code",
   "execution_count": 93,
   "metadata": {},
   "outputs": [
    {
     "name": "stdout",
     "output_type": "stream",
     "text": [
      "LH_AngG\n",
      "0.12550887729576513\n",
      "LH_AntTemp\n",
      "0.06179208251674223\n",
      "LH_IFG\n",
      "0.07750293481130802\n",
      "LH_IFGorb\n",
      "0.07566015559095997\n",
      "LH_MFG\n",
      "0.23790695625546537\n",
      "LH_PostTemp\n",
      "0.09840395045744761\n",
      "RH_AngG\n",
      "0.13265015864794946\n",
      "RH_AntTemp\n",
      "0.11066046870015632\n",
      "RH_IFG\n",
      "0.036538480498821385\n",
      "RH_IFGorb\n",
      "0.08097812939898015\n",
      "RH_MFG\n",
      "0.10602263222626122\n",
      "RH_PostTemp\n",
      "0.041356218532488644\n"
     ]
    }
   ],
   "source": [
    "roi_score_all = []\n",
    "for roi_region in np.unique(model_score.raw.raw[0].roi):\n",
    "    model_score_raw_roi_region = model_score.raw.raw[0].sel(roi=roi_region)\n",
    "    print(roi_region)\n",
    "    roi_score = np.mean(model_score_raw_roi_region).data\n",
    "    print(roi_score)\n",
    "    roi_score_all.append(roi_score)"
   ]
  },
  {
   "cell_type": "code",
   "execution_count": 96,
   "metadata": {},
   "outputs": [
    {
     "name": "stderr",
     "output_type": "stream",
     "text": [
      "/tmp/ipykernel_67000/667586370.py:11: UserWarning: FigureCanvasAgg is non-interactive, and thus cannot be shown\n",
      "  fig.show()\n"
     ]
    },
    {
     "data": {
      "image/png": "[encoded data removed]",
      "text/plain": [
       "<Figure size 640x480 with 1 Axes>"
      ]
     },
     "metadata": {},
     "output_type": "display_data"
    }
   ],
   "source": [
    "import numpy as np\n",
    "from matplotlib import pyplot\n",
    "\n",
    "y = roi_score_all\n",
    "fig, ax = pyplot.subplots()\n",
    "x = np.unique(model_score.raw.raw[0].roi)\n",
    "ax.scatter(x, y)\n",
    "ax.set_xticks(x)\n",
    "ax.set_xticklabels(x, rotation=45)\n",
    "ax.set_ylabel('score')\n",
    "fig.show()"
   ]
  }
 ],
 "metadata": {
  "kernelspec": {
   "display_name": "Python 3 (ipykernel)",
   "language": "python",
   "name": "python3"
  },
  "language_info": {
   "codemirror_mode": {
    "name": "ipython",
    "version": 3
   },
   "file_extension": ".py",
   "mimetype": "text/x-python",
   "name": "python",
   "nbconvert_exporter": "python",
   "pygments_lexer": "ipython3",
   "version": "3.10.13"
  }
 },
 "nbformat": 4,
 "nbformat_minor": 4
}
